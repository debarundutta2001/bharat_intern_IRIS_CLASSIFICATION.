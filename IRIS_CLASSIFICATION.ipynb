{
 "cells": [
  {
   "cell_type": "code",
   "execution_count": 1,
   "id": "f1f7f1cf-ef78-46d7-8d01-126cc1f10f4b",
   "metadata": {},
   "outputs": [],
   "source": [
    "import pandas as pd\n",
    "import numpy as np\n",
    "import seaborn as sns\n",
    "from tensorflow import keras\n"
   ]
  },
  {
   "cell_type": "code",
   "execution_count": 3,
   "id": "dd1e49f3-f8d8-4b97-86da-cb768b0f13a2",
   "metadata": {},
   "outputs": [
    {
     "data": {
      "text/html": [
       "<div>\n",
       "<style scoped>\n",
       "    .dataframe tbody tr th:only-of-type {\n",
       "        vertical-align: middle;\n",
       "    }\n",
       "\n",
       "    .dataframe tbody tr th {\n",
       "        vertical-align: top;\n",
       "    }\n",
       "\n",
       "    .dataframe thead th {\n",
       "        text-align: right;\n",
       "    }\n",
       "</style>\n",
       "<table border=\"1\" class=\"dataframe\">\n",
       "  <thead>\n",
       "    <tr style=\"text-align: right;\">\n",
       "      <th></th>\n",
       "      <th>Id</th>\n",
       "      <th>SepalLengthCm</th>\n",
       "      <th>SepalWidthCm</th>\n",
       "      <th>PetalLengthCm</th>\n",
       "      <th>PetalWidthCm</th>\n",
       "      <th>Species</th>\n",
       "    </tr>\n",
       "  </thead>\n",
       "  <tbody>\n",
       "    <tr>\n",
       "      <th>0</th>\n",
       "      <td>1</td>\n",
       "      <td>5.1</td>\n",
       "      <td>3.5</td>\n",
       "      <td>1.4</td>\n",
       "      <td>0.2</td>\n",
       "      <td>Iris-setosa</td>\n",
       "    </tr>\n",
       "    <tr>\n",
       "      <th>1</th>\n",
       "      <td>2</td>\n",
       "      <td>4.9</td>\n",
       "      <td>3.0</td>\n",
       "      <td>1.4</td>\n",
       "      <td>0.2</td>\n",
       "      <td>Iris-setosa</td>\n",
       "    </tr>\n",
       "    <tr>\n",
       "      <th>2</th>\n",
       "      <td>3</td>\n",
       "      <td>4.7</td>\n",
       "      <td>3.2</td>\n",
       "      <td>1.3</td>\n",
       "      <td>0.2</td>\n",
       "      <td>Iris-setosa</td>\n",
       "    </tr>\n",
       "    <tr>\n",
       "      <th>3</th>\n",
       "      <td>4</td>\n",
       "      <td>4.6</td>\n",
       "      <td>3.1</td>\n",
       "      <td>1.5</td>\n",
       "      <td>0.2</td>\n",
       "      <td>Iris-setosa</td>\n",
       "    </tr>\n",
       "    <tr>\n",
       "      <th>4</th>\n",
       "      <td>5</td>\n",
       "      <td>5.0</td>\n",
       "      <td>3.6</td>\n",
       "      <td>1.4</td>\n",
       "      <td>0.2</td>\n",
       "      <td>Iris-setosa</td>\n",
       "    </tr>\n",
       "  </tbody>\n",
       "</table>\n",
       "</div>"
      ],
      "text/plain": [
       "   Id  SepalLengthCm  SepalWidthCm  PetalLengthCm  PetalWidthCm      Species\n",
       "0   1            5.1           3.5            1.4           0.2  Iris-setosa\n",
       "1   2            4.9           3.0            1.4           0.2  Iris-setosa\n",
       "2   3            4.7           3.2            1.3           0.2  Iris-setosa\n",
       "3   4            4.6           3.1            1.5           0.2  Iris-setosa\n",
       "4   5            5.0           3.6            1.4           0.2  Iris-setosa"
      ]
     },
     "execution_count": 3,
     "metadata": {},
     "output_type": "execute_result"
    }
   ],
   "source": [
    "df_iris=pd.read_csv(\"Iris.csv\")\n",
    "df_iris.head()"
   ]
  },
  {
   "cell_type": "code",
   "execution_count": 7,
   "id": "b09d69ad-315b-4d5a-94c3-6d6384934af9",
   "metadata": {},
   "outputs": [
    {
     "data": {
      "text/plain": [
       "Species\n",
       "Iris-setosa        50\n",
       "Iris-versicolor    50\n",
       "Iris-virginica     50\n",
       "Name: count, dtype: int64"
      ]
     },
     "execution_count": 7,
     "metadata": {},
     "output_type": "execute_result"
    }
   ],
   "source": [
    "df_iris['Species'].value_counts()"
   ]
  },
  {
   "cell_type": "code",
   "execution_count": 9,
   "id": "e06d2865-59d4-435a-be6f-900ef0311cfb",
   "metadata": {},
   "outputs": [
    {
     "name": "stdout",
     "output_type": "stream",
     "text": [
      "<class 'pandas.core.frame.DataFrame'>\n",
      "RangeIndex: 150 entries, 0 to 149\n",
      "Data columns (total 6 columns):\n",
      " #   Column         Non-Null Count  Dtype  \n",
      "---  ------         --------------  -----  \n",
      " 0   Id             150 non-null    int64  \n",
      " 1   SepalLengthCm  150 non-null    float64\n",
      " 2   SepalWidthCm   150 non-null    float64\n",
      " 3   PetalLengthCm  150 non-null    float64\n",
      " 4   PetalWidthCm   150 non-null    float64\n",
      " 5   Species        150 non-null    object \n",
      "dtypes: float64(4), int64(1), object(1)\n",
      "memory usage: 7.2+ KB\n"
     ]
    }
   ],
   "source": [
    "df_iris.info()"
   ]
  },
  {
   "cell_type": "code",
   "execution_count": 13,
   "id": "b707e0a3-e5e8-422e-abe6-e0ee1b58d86e",
   "metadata": {},
   "outputs": [
    {
     "data": {
      "text/plain": [
       "Id               0\n",
       "SepalLengthCm    0\n",
       "SepalWidthCm     0\n",
       "PetalLengthCm    0\n",
       "PetalWidthCm     0\n",
       "Species          0\n",
       "dtype: int64"
      ]
     },
     "execution_count": 13,
     "metadata": {},
     "output_type": "execute_result"
    }
   ],
   "source": [
    "df_iris.isnull().sum()\n"
   ]
  },
  {
   "cell_type": "code",
   "execution_count": 15,
   "id": "067e8b05-5df5-4c96-823e-d51f7b7ef7c2",
   "metadata": {},
   "outputs": [
    {
     "data": {
      "text/html": [
       "<div>\n",
       "<style scoped>\n",
       "    .dataframe tbody tr th:only-of-type {\n",
       "        vertical-align: middle;\n",
       "    }\n",
       "\n",
       "    .dataframe tbody tr th {\n",
       "        vertical-align: top;\n",
       "    }\n",
       "\n",
       "    .dataframe thead th {\n",
       "        text-align: right;\n",
       "    }\n",
       "</style>\n",
       "<table border=\"1\" class=\"dataframe\">\n",
       "  <thead>\n",
       "    <tr style=\"text-align: right;\">\n",
       "      <th></th>\n",
       "      <th>Id</th>\n",
       "      <th>SepalLengthCm</th>\n",
       "      <th>SepalWidthCm</th>\n",
       "      <th>PetalLengthCm</th>\n",
       "      <th>PetalWidthCm</th>\n",
       "      <th>Species</th>\n",
       "    </tr>\n",
       "  </thead>\n",
       "  <tbody>\n",
       "    <tr>\n",
       "      <th>0</th>\n",
       "      <td>1</td>\n",
       "      <td>5.1</td>\n",
       "      <td>3.5</td>\n",
       "      <td>1.4</td>\n",
       "      <td>0.2</td>\n",
       "      <td>0</td>\n",
       "    </tr>\n",
       "    <tr>\n",
       "      <th>1</th>\n",
       "      <td>2</td>\n",
       "      <td>4.9</td>\n",
       "      <td>3.0</td>\n",
       "      <td>1.4</td>\n",
       "      <td>0.2</td>\n",
       "      <td>0</td>\n",
       "    </tr>\n",
       "    <tr>\n",
       "      <th>2</th>\n",
       "      <td>3</td>\n",
       "      <td>4.7</td>\n",
       "      <td>3.2</td>\n",
       "      <td>1.3</td>\n",
       "      <td>0.2</td>\n",
       "      <td>0</td>\n",
       "    </tr>\n",
       "    <tr>\n",
       "      <th>3</th>\n",
       "      <td>4</td>\n",
       "      <td>4.6</td>\n",
       "      <td>3.1</td>\n",
       "      <td>1.5</td>\n",
       "      <td>0.2</td>\n",
       "      <td>0</td>\n",
       "    </tr>\n",
       "    <tr>\n",
       "      <th>4</th>\n",
       "      <td>5</td>\n",
       "      <td>5.0</td>\n",
       "      <td>3.6</td>\n",
       "      <td>1.4</td>\n",
       "      <td>0.2</td>\n",
       "      <td>0</td>\n",
       "    </tr>\n",
       "  </tbody>\n",
       "</table>\n",
       "</div>"
      ],
      "text/plain": [
       "   Id  SepalLengthCm  SepalWidthCm  PetalLengthCm  PetalWidthCm  Species\n",
       "0   1            5.1           3.5            1.4           0.2        0\n",
       "1   2            4.9           3.0            1.4           0.2        0\n",
       "2   3            4.7           3.2            1.3           0.2        0\n",
       "3   4            4.6           3.1            1.5           0.2        0\n",
       "4   5            5.0           3.6            1.4           0.2        0"
      ]
     },
     "execution_count": 15,
     "metadata": {},
     "output_type": "execute_result"
    }
   ],
   "source": [
    "from sklearn.preprocessing import LabelEncoder\n",
    "le = LabelEncoder()\n",
    "df_iris['Species'] = le.fit_transform(df_iris['Species'])\n",
    "df_iris.head()"
   ]
  },
  {
   "cell_type": "code",
   "execution_count": 17,
   "id": "c35c9163-4170-4240-b336-178687f07af6",
   "metadata": {},
   "outputs": [
    {
     "name": "stdout",
     "output_type": "stream",
     "text": [
      "['Iris-setosa' 'Iris-versicolor' 'Iris-virginica']\n"
     ]
    }
   ],
   "source": [
    "species_name = le.classes_\n",
    "print(species_name)\n"
   ]
  },
  {
   "cell_type": "code",
   "execution_count": 19,
   "id": "9c74a6c0-2b47-4e6d-8da8-3b9fbb63e399",
   "metadata": {},
   "outputs": [
    {
     "data": {
      "text/html": [
       "<div>\n",
       "<style scoped>\n",
       "    .dataframe tbody tr th:only-of-type {\n",
       "        vertical-align: middle;\n",
       "    }\n",
       "\n",
       "    .dataframe tbody tr th {\n",
       "        vertical-align: top;\n",
       "    }\n",
       "\n",
       "    .dataframe thead th {\n",
       "        text-align: right;\n",
       "    }\n",
       "</style>\n",
       "<table border=\"1\" class=\"dataframe\">\n",
       "  <thead>\n",
       "    <tr style=\"text-align: right;\">\n",
       "      <th></th>\n",
       "      <th>SepalLengthCm</th>\n",
       "      <th>SepalWidthCm</th>\n",
       "      <th>PetalLengthCm</th>\n",
       "      <th>PetalWidthCm</th>\n",
       "    </tr>\n",
       "  </thead>\n",
       "  <tbody>\n",
       "    <tr>\n",
       "      <th>0</th>\n",
       "      <td>5.1</td>\n",
       "      <td>3.5</td>\n",
       "      <td>1.4</td>\n",
       "      <td>0.2</td>\n",
       "    </tr>\n",
       "    <tr>\n",
       "      <th>1</th>\n",
       "      <td>4.9</td>\n",
       "      <td>3.0</td>\n",
       "      <td>1.4</td>\n",
       "      <td>0.2</td>\n",
       "    </tr>\n",
       "    <tr>\n",
       "      <th>2</th>\n",
       "      <td>4.7</td>\n",
       "      <td>3.2</td>\n",
       "      <td>1.3</td>\n",
       "      <td>0.2</td>\n",
       "    </tr>\n",
       "  </tbody>\n",
       "</table>\n",
       "</div>"
      ],
      "text/plain": [
       "   SepalLengthCm  SepalWidthCm  PetalLengthCm  PetalWidthCm\n",
       "0            5.1           3.5            1.4           0.2\n",
       "1            4.9           3.0            1.4           0.2\n",
       "2            4.7           3.2            1.3           0.2"
      ]
     },
     "execution_count": 19,
     "metadata": {},
     "output_type": "execute_result"
    }
   ],
   "source": [
    "X = df_iris.drop(columns=['Id','Species'])\n",
    "y = df_iris['Species']\n",
    "X.head(3)"
   ]
  },
  {
   "cell_type": "code",
   "execution_count": 21,
   "id": "49c49326-c5f4-43cf-920b-e2c43cc71ce0",
   "metadata": {},
   "outputs": [
    {
     "name": "stdout",
     "output_type": "stream",
     "text": [
      "0    0\n",
      "1    0\n",
      "2    0\n",
      "3    0\n",
      "4    0\n",
      "Name: Species, dtype: int32\n"
     ]
    }
   ],
   "source": [
    "print(y[:5])"
   ]
  },
  {
   "cell_type": "code",
   "execution_count": 23,
   "id": "63f9e3c6-59de-477c-a1ca-fb3966ec15ab",
   "metadata": {},
   "outputs": [],
   "source": [
    "from sklearn.model_selection import train_test_split\n",
    "X_train,X_test,y_train,y_test = train_test_split(X,y,test_size=0.3, shuffle=True, random_state=69)"
   ]
  },
  {
   "cell_type": "code",
   "execution_count": 35,
   "id": "f22f8572-265d-4fa1-9021-e2654c7437dd",
   "metadata": {},
   "outputs": [
    {
     "data": {
      "text/plain": [
       "(105, 4)"
      ]
     },
     "execution_count": 35,
     "metadata": {},
     "output_type": "execute_result"
    }
   ],
   "source": [
    "X_train.shape"
   ]
  },
  {
   "cell_type": "code",
   "execution_count": 37,
   "id": "3757e993-45b5-4ba4-bfae-c0a7205dfe1a",
   "metadata": {},
   "outputs": [
    {
     "name": "stdout",
     "output_type": "stream",
     "text": [
      "[[-1.14630942 -1.44374444 -0.25650655 -0.258263  ]]\n",
      "[[-1.14630942 -1.44374444 -0.25650655 -0.258263  ]]\n"
     ]
    }
   ],
   "source": [
    "from sklearn.preprocessing import StandardScaler\n",
    "sc = StandardScaler()\n",
    "print(X_train[:1])\n",
    "X_train = sc.fit_transform(X_train)\n",
    "X_test = sc.transform(X_test)\n",
    "print(X_train[:1])"
   ]
  },
  {
   "cell_type": "code",
   "execution_count": 39,
   "id": "8e9d3076-8cb5-4bb7-a1f7-0aa68da81954",
   "metadata": {},
   "outputs": [
    {
     "name": "stdout",
     "output_type": "stream",
     "text": [
      "[[0. 1. 0.]\n",
      " [0. 0. 1.]\n",
      " [0. 1. 0.]\n",
      " [0. 1. 0.]\n",
      " [0. 1. 0.]]\n"
     ]
    }
   ],
   "source": [
    "y_train = keras.utils.to_categorical(y_train, num_classes=3)\n",
    "print(y_train[:5])"
   ]
  },
  {
   "cell_type": "code",
   "execution_count": 61,
   "id": "944e0316-cea0-42c2-a1bf-60236d9b3cbd",
   "metadata": {},
   "outputs": [],
   "source": [
    "from keras.models import Sequential\n",
    "from keras.layers import Dense, Dropout, Input\n",
    "from keras.optimizers import Adam"
   ]
  },
  {
   "cell_type": "code",
   "execution_count": 63,
   "id": "d1dd4a5f-b64e-44e9-afdb-c8ec48b08629",
   "metadata": {},
   "outputs": [],
   "source": [
    "model = Sequential()\n",
    "model.add(Input(shape=(X_train.shape[-1],)))\n",
    "model.add(Dense(units=32, activation='relu'))\n",
    "model.add(Dense(units=32, activation='relu'))\n",
    "model.add(Dropout(0.5))\n",
    "model.add(Dense(units=3, activation='softmax'))\n"
   ]
  },
  {
   "cell_type": "code",
   "execution_count": 65,
   "id": "68e2ceb7-c1b6-4e50-acc9-d31054a70242",
   "metadata": {},
   "outputs": [
    {
     "data": {
      "text/html": [
       "<pre style=\"white-space:pre;overflow-x:auto;line-height:normal;font-family:Menlo,'DejaVu Sans Mono',consolas,'Courier New',monospace\"><span style=\"font-weight: bold\">Model: \"sequential_7\"</span>\n",
       "</pre>\n"
      ],
      "text/plain": [
       "\u001b[1mModel: \"sequential_7\"\u001b[0m\n"
      ]
     },
     "metadata": {},
     "output_type": "display_data"
    },
    {
     "data": {
      "text/html": [
       "<pre style=\"white-space:pre;overflow-x:auto;line-height:normal;font-family:Menlo,'DejaVu Sans Mono',consolas,'Courier New',monospace\">┏━━━━━━━━━━━━━━━━━━━━━━━━━━━━━━━━━┳━━━━━━━━━━━━━━━━━━━━━━━━┳━━━━━━━━━━━━━━━┓\n",
       "┃<span style=\"font-weight: bold\"> Layer (type)                    </span>┃<span style=\"font-weight: bold\"> Output Shape           </span>┃<span style=\"font-weight: bold\">       Param # </span>┃\n",
       "┡━━━━━━━━━━━━━━━━━━━━━━━━━━━━━━━━━╇━━━━━━━━━━━━━━━━━━━━━━━━╇━━━━━━━━━━━━━━━┩\n",
       "│ dense_12 (<span style=\"color: #0087ff; text-decoration-color: #0087ff\">Dense</span>)                │ (<span style=\"color: #00d7ff; text-decoration-color: #00d7ff\">None</span>, <span style=\"color: #00af00; text-decoration-color: #00af00\">32</span>)             │           <span style=\"color: #00af00; text-decoration-color: #00af00\">160</span> │\n",
       "├─────────────────────────────────┼────────────────────────┼───────────────┤\n",
       "│ dense_13 (<span style=\"color: #0087ff; text-decoration-color: #0087ff\">Dense</span>)                │ (<span style=\"color: #00d7ff; text-decoration-color: #00d7ff\">None</span>, <span style=\"color: #00af00; text-decoration-color: #00af00\">32</span>)             │         <span style=\"color: #00af00; text-decoration-color: #00af00\">1,056</span> │\n",
       "├─────────────────────────────────┼────────────────────────┼───────────────┤\n",
       "│ dropout_4 (<span style=\"color: #0087ff; text-decoration-color: #0087ff\">Dropout</span>)             │ (<span style=\"color: #00d7ff; text-decoration-color: #00d7ff\">None</span>, <span style=\"color: #00af00; text-decoration-color: #00af00\">32</span>)             │             <span style=\"color: #00af00; text-decoration-color: #00af00\">0</span> │\n",
       "├─────────────────────────────────┼────────────────────────┼───────────────┤\n",
       "│ dense_14 (<span style=\"color: #0087ff; text-decoration-color: #0087ff\">Dense</span>)                │ (<span style=\"color: #00d7ff; text-decoration-color: #00d7ff\">None</span>, <span style=\"color: #00af00; text-decoration-color: #00af00\">3</span>)              │            <span style=\"color: #00af00; text-decoration-color: #00af00\">99</span> │\n",
       "└─────────────────────────────────┴────────────────────────┴───────────────┘\n",
       "</pre>\n"
      ],
      "text/plain": [
       "┏━━━━━━━━━━━━━━━━━━━━━━━━━━━━━━━━━┳━━━━━━━━━━━━━━━━━━━━━━━━┳━━━━━━━━━━━━━━━┓\n",
       "┃\u001b[1m \u001b[0m\u001b[1mLayer (type)                   \u001b[0m\u001b[1m \u001b[0m┃\u001b[1m \u001b[0m\u001b[1mOutput Shape          \u001b[0m\u001b[1m \u001b[0m┃\u001b[1m \u001b[0m\u001b[1m      Param #\u001b[0m\u001b[1m \u001b[0m┃\n",
       "┡━━━━━━━━━━━━━━━━━━━━━━━━━━━━━━━━━╇━━━━━━━━━━━━━━━━━━━━━━━━╇━━━━━━━━━━━━━━━┩\n",
       "│ dense_12 (\u001b[38;5;33mDense\u001b[0m)                │ (\u001b[38;5;45mNone\u001b[0m, \u001b[38;5;34m32\u001b[0m)             │           \u001b[38;5;34m160\u001b[0m │\n",
       "├─────────────────────────────────┼────────────────────────┼───────────────┤\n",
       "│ dense_13 (\u001b[38;5;33mDense\u001b[0m)                │ (\u001b[38;5;45mNone\u001b[0m, \u001b[38;5;34m32\u001b[0m)             │         \u001b[38;5;34m1,056\u001b[0m │\n",
       "├─────────────────────────────────┼────────────────────────┼───────────────┤\n",
       "│ dropout_4 (\u001b[38;5;33mDropout\u001b[0m)             │ (\u001b[38;5;45mNone\u001b[0m, \u001b[38;5;34m32\u001b[0m)             │             \u001b[38;5;34m0\u001b[0m │\n",
       "├─────────────────────────────────┼────────────────────────┼───────────────┤\n",
       "│ dense_14 (\u001b[38;5;33mDense\u001b[0m)                │ (\u001b[38;5;45mNone\u001b[0m, \u001b[38;5;34m3\u001b[0m)              │            \u001b[38;5;34m99\u001b[0m │\n",
       "└─────────────────────────────────┴────────────────────────┴───────────────┘\n"
      ]
     },
     "metadata": {},
     "output_type": "display_data"
    },
    {
     "data": {
      "text/html": [
       "<pre style=\"white-space:pre;overflow-x:auto;line-height:normal;font-family:Menlo,'DejaVu Sans Mono',consolas,'Courier New',monospace\"><span style=\"font-weight: bold\"> Total params: </span><span style=\"color: #00af00; text-decoration-color: #00af00\">1,315</span> (5.14 KB)\n",
       "</pre>\n"
      ],
      "text/plain": [
       "\u001b[1m Total params: \u001b[0m\u001b[38;5;34m1,315\u001b[0m (5.14 KB)\n"
      ]
     },
     "metadata": {},
     "output_type": "display_data"
    },
    {
     "data": {
      "text/html": [
       "<pre style=\"white-space:pre;overflow-x:auto;line-height:normal;font-family:Menlo,'DejaVu Sans Mono',consolas,'Courier New',monospace\"><span style=\"font-weight: bold\"> Trainable params: </span><span style=\"color: #00af00; text-decoration-color: #00af00\">1,315</span> (5.14 KB)\n",
       "</pre>\n"
      ],
      "text/plain": [
       "\u001b[1m Trainable params: \u001b[0m\u001b[38;5;34m1,315\u001b[0m (5.14 KB)\n"
      ]
     },
     "metadata": {},
     "output_type": "display_data"
    },
    {
     "data": {
      "text/html": [
       "<pre style=\"white-space:pre;overflow-x:auto;line-height:normal;font-family:Menlo,'DejaVu Sans Mono',consolas,'Courier New',monospace\"><span style=\"font-weight: bold\"> Non-trainable params: </span><span style=\"color: #00af00; text-decoration-color: #00af00\">0</span> (0.00 B)\n",
       "</pre>\n"
      ],
      "text/plain": [
       "\u001b[1m Non-trainable params: \u001b[0m\u001b[38;5;34m0\u001b[0m (0.00 B)\n"
      ]
     },
     "metadata": {},
     "output_type": "display_data"
    }
   ],
   "source": [
    "model.compile(optimizer='Adam', loss='categorical_crossentropy', metrics=['accuracy'])\n",
    "model.summary()"
   ]
  },
  {
   "cell_type": "code",
   "execution_count": 69,
   "id": "948e44e1-a3df-4e36-ae8b-cfec9635e6c7",
   "metadata": {},
   "outputs": [
    {
     "name": "stdout",
     "output_type": "stream",
     "text": [
      "Epoch 1/100\n",
      "4/4 - 2s - 618ms/step - accuracy: 0.2571 - loss: 1.1451\n",
      "Epoch 2/100\n",
      "4/4 - 0s - 17ms/step - accuracy: 0.3143 - loss: 1.1248\n",
      "Epoch 3/100\n",
      "4/4 - 0s - 12ms/step - accuracy: 0.4667 - loss: 1.0009\n",
      "Epoch 4/100\n",
      "4/4 - 0s - 12ms/step - accuracy: 0.5143 - loss: 1.0154\n",
      "Epoch 5/100\n",
      "4/4 - 0s - 12ms/step - accuracy: 0.6095 - loss: 0.9737\n",
      "Epoch 6/100\n",
      "4/4 - 0s - 12ms/step - accuracy: 0.6476 - loss: 0.9244\n",
      "Epoch 7/100\n",
      "4/4 - 0s - 12ms/step - accuracy: 0.7048 - loss: 0.8892\n",
      "Epoch 8/100\n",
      "4/4 - 0s - 11ms/step - accuracy: 0.7333 - loss: 0.8531\n",
      "Epoch 9/100\n",
      "4/4 - 0s - 13ms/step - accuracy: 0.7048 - loss: 0.8748\n",
      "Epoch 10/100\n",
      "4/4 - 0s - 13ms/step - accuracy: 0.8000 - loss: 0.7876\n",
      "Epoch 11/100\n",
      "4/4 - 0s - 14ms/step - accuracy: 0.7619 - loss: 0.7992\n",
      "Epoch 12/100\n",
      "4/4 - 0s - 16ms/step - accuracy: 0.7714 - loss: 0.7307\n",
      "Epoch 13/100\n",
      "4/4 - 0s - 12ms/step - accuracy: 0.8000 - loss: 0.7170\n",
      "Epoch 14/100\n",
      "4/4 - 0s - 13ms/step - accuracy: 0.7810 - loss: 0.7142\n",
      "Epoch 15/100\n",
      "4/4 - 0s - 11ms/step - accuracy: 0.7810 - loss: 0.6592\n",
      "Epoch 16/100\n",
      "4/4 - 0s - 12ms/step - accuracy: 0.8095 - loss: 0.6265\n",
      "Epoch 17/100\n",
      "4/4 - 0s - 12ms/step - accuracy: 0.8190 - loss: 0.6063\n",
      "Epoch 18/100\n",
      "4/4 - 0s - 13ms/step - accuracy: 0.8571 - loss: 0.5854\n",
      "Epoch 19/100\n",
      "4/4 - 0s - 11ms/step - accuracy: 0.8190 - loss: 0.5893\n",
      "Epoch 20/100\n",
      "4/4 - 0s - 11ms/step - accuracy: 0.8190 - loss: 0.5578\n",
      "Epoch 21/100\n",
      "4/4 - 0s - 12ms/step - accuracy: 0.8000 - loss: 0.5648\n",
      "Epoch 22/100\n",
      "4/4 - 0s - 12ms/step - accuracy: 0.8476 - loss: 0.5596\n",
      "Epoch 23/100\n",
      "4/4 - 0s - 13ms/step - accuracy: 0.8000 - loss: 0.5348\n",
      "Epoch 24/100\n",
      "4/4 - 0s - 11ms/step - accuracy: 0.8190 - loss: 0.4711\n",
      "Epoch 25/100\n",
      "4/4 - 0s - 14ms/step - accuracy: 0.8381 - loss: 0.4585\n",
      "Epoch 26/100\n",
      "4/4 - 0s - 11ms/step - accuracy: 0.8286 - loss: 0.4822\n",
      "Epoch 27/100\n",
      "4/4 - 0s - 11ms/step - accuracy: 0.7714 - loss: 0.4772\n",
      "Epoch 28/100\n",
      "4/4 - 0s - 15ms/step - accuracy: 0.7810 - loss: 0.4841\n",
      "Epoch 29/100\n",
      "4/4 - 0s - 12ms/step - accuracy: 0.8476 - loss: 0.4519\n",
      "Epoch 30/100\n",
      "4/4 - 0s - 14ms/step - accuracy: 0.8667 - loss: 0.4251\n",
      "Epoch 31/100\n",
      "4/4 - 0s - 13ms/step - accuracy: 0.8571 - loss: 0.4128\n",
      "Epoch 32/100\n",
      "4/4 - 0s - 15ms/step - accuracy: 0.8190 - loss: 0.4282\n",
      "Epoch 33/100\n",
      "4/4 - 0s - 12ms/step - accuracy: 0.8381 - loss: 0.4220\n",
      "Epoch 34/100\n",
      "4/4 - 0s - 14ms/step - accuracy: 0.8095 - loss: 0.4204\n",
      "Epoch 35/100\n",
      "4/4 - 0s - 17ms/step - accuracy: 0.8571 - loss: 0.3881\n",
      "Epoch 36/100\n",
      "4/4 - 0s - 39ms/step - accuracy: 0.8476 - loss: 0.3680\n",
      "Epoch 37/100\n",
      "4/4 - 0s - 19ms/step - accuracy: 0.8571 - loss: 0.3632\n",
      "Epoch 38/100\n",
      "4/4 - 0s - 12ms/step - accuracy: 0.8857 - loss: 0.3732\n",
      "Epoch 39/100\n",
      "4/4 - 0s - 13ms/step - accuracy: 0.8571 - loss: 0.3460\n",
      "Epoch 40/100\n",
      "4/4 - 0s - 13ms/step - accuracy: 0.8762 - loss: 0.3581\n",
      "Epoch 41/100\n",
      "4/4 - 0s - 13ms/step - accuracy: 0.8762 - loss: 0.3105\n",
      "Epoch 42/100\n",
      "4/4 - 0s - 14ms/step - accuracy: 0.8762 - loss: 0.3818\n",
      "Epoch 43/100\n",
      "4/4 - 0s - 27ms/step - accuracy: 0.8857 - loss: 0.3003\n",
      "Epoch 44/100\n",
      "4/4 - 0s - 16ms/step - accuracy: 0.9048 - loss: 0.3297\n",
      "Epoch 45/100\n",
      "4/4 - 0s - 12ms/step - accuracy: 0.8286 - loss: 0.3726\n",
      "Epoch 46/100\n",
      "4/4 - 0s - 13ms/step - accuracy: 0.9143 - loss: 0.3006\n",
      "Epoch 47/100\n",
      "4/4 - 0s - 11ms/step - accuracy: 0.8762 - loss: 0.3238\n",
      "Epoch 48/100\n",
      "4/4 - 0s - 12ms/step - accuracy: 0.8762 - loss: 0.3311\n",
      "Epoch 49/100\n",
      "4/4 - 0s - 12ms/step - accuracy: 0.8952 - loss: 0.2988\n",
      "Epoch 50/100\n",
      "4/4 - 0s - 12ms/step - accuracy: 0.8762 - loss: 0.3573\n",
      "Epoch 51/100\n",
      "4/4 - 0s - 14ms/step - accuracy: 0.8952 - loss: 0.2928\n",
      "Epoch 52/100\n",
      "4/4 - 0s - 12ms/step - accuracy: 0.9143 - loss: 0.2791\n",
      "Epoch 53/100\n",
      "4/4 - 0s - 11ms/step - accuracy: 0.9048 - loss: 0.2674\n",
      "Epoch 54/100\n",
      "4/4 - 0s - 12ms/step - accuracy: 0.8571 - loss: 0.3198\n",
      "Epoch 55/100\n",
      "4/4 - 0s - 10ms/step - accuracy: 0.8857 - loss: 0.2907\n",
      "Epoch 56/100\n",
      "4/4 - 0s - 11ms/step - accuracy: 0.9048 - loss: 0.2761\n",
      "Epoch 57/100\n",
      "4/4 - 0s - 11ms/step - accuracy: 0.8857 - loss: 0.2909\n",
      "Epoch 58/100\n",
      "4/4 - 0s - 10ms/step - accuracy: 0.9048 - loss: 0.2658\n",
      "Epoch 59/100\n",
      "4/4 - 0s - 12ms/step - accuracy: 0.9143 - loss: 0.2408\n",
      "Epoch 60/100\n",
      "4/4 - 0s - 12ms/step - accuracy: 0.9238 - loss: 0.2739\n",
      "Epoch 61/100\n",
      "4/4 - 0s - 16ms/step - accuracy: 0.9429 - loss: 0.2510\n",
      "Epoch 62/100\n",
      "4/4 - 0s - 12ms/step - accuracy: 0.8857 - loss: 0.2633\n",
      "Epoch 63/100\n",
      "4/4 - 0s - 12ms/step - accuracy: 0.9333 - loss: 0.2400\n",
      "Epoch 64/100\n",
      "4/4 - 0s - 11ms/step - accuracy: 0.9143 - loss: 0.2248\n",
      "Epoch 65/100\n",
      "4/4 - 0s - 11ms/step - accuracy: 0.8952 - loss: 0.2763\n",
      "Epoch 66/100\n",
      "4/4 - 0s - 11ms/step - accuracy: 0.9333 - loss: 0.2405\n",
      "Epoch 67/100\n",
      "4/4 - 0s - 12ms/step - accuracy: 0.9333 - loss: 0.2285\n",
      "Epoch 68/100\n",
      "4/4 - 0s - 10ms/step - accuracy: 0.8952 - loss: 0.2701\n",
      "Epoch 69/100\n",
      "4/4 - 0s - 10ms/step - accuracy: 0.9238 - loss: 0.2519\n",
      "Epoch 70/100\n",
      "4/4 - 0s - 13ms/step - accuracy: 0.9333 - loss: 0.2097\n",
      "Epoch 71/100\n",
      "4/4 - 0s - 13ms/step - accuracy: 0.9429 - loss: 0.2330\n",
      "Epoch 72/100\n",
      "4/4 - 0s - 12ms/step - accuracy: 0.9143 - loss: 0.2432\n",
      "Epoch 73/100\n",
      "4/4 - 0s - 12ms/step - accuracy: 0.9048 - loss: 0.2508\n",
      "Epoch 74/100\n",
      "4/4 - 0s - 12ms/step - accuracy: 0.9238 - loss: 0.1999\n",
      "Epoch 75/100\n",
      "4/4 - 0s - 12ms/step - accuracy: 0.9048 - loss: 0.2145\n",
      "Epoch 76/100\n",
      "4/4 - 0s - 12ms/step - accuracy: 0.9524 - loss: 0.1961\n",
      "Epoch 77/100\n",
      "4/4 - 0s - 15ms/step - accuracy: 0.9429 - loss: 0.2071\n",
      "Epoch 78/100\n",
      "4/4 - 0s - 16ms/step - accuracy: 0.9143 - loss: 0.2002\n",
      "Epoch 79/100\n",
      "4/4 - 0s - 13ms/step - accuracy: 0.9333 - loss: 0.1827\n",
      "Epoch 80/100\n",
      "4/4 - 0s - 16ms/step - accuracy: 0.9238 - loss: 0.2222\n",
      "Epoch 81/100\n",
      "4/4 - 0s - 19ms/step - accuracy: 0.9524 - loss: 0.1959\n",
      "Epoch 82/100\n",
      "4/4 - 0s - 15ms/step - accuracy: 0.9238 - loss: 0.1946\n",
      "Epoch 83/100\n",
      "4/4 - 0s - 15ms/step - accuracy: 0.9429 - loss: 0.1862\n",
      "Epoch 84/100\n",
      "4/4 - 0s - 13ms/step - accuracy: 0.9429 - loss: 0.1916\n",
      "Epoch 85/100\n",
      "4/4 - 0s - 37ms/step - accuracy: 0.9524 - loss: 0.1694\n",
      "Epoch 86/100\n",
      "4/4 - 0s - 17ms/step - accuracy: 0.9429 - loss: 0.1981\n",
      "Epoch 87/100\n",
      "4/4 - 0s - 15ms/step - accuracy: 0.9143 - loss: 0.2181\n",
      "Epoch 88/100\n",
      "4/4 - 0s - 15ms/step - accuracy: 0.9429 - loss: 0.1645\n",
      "Epoch 89/100\n",
      "4/4 - 0s - 16ms/step - accuracy: 0.9238 - loss: 0.2007\n",
      "Epoch 90/100\n",
      "4/4 - 0s - 17ms/step - accuracy: 0.9429 - loss: 0.1738\n",
      "Epoch 91/100\n",
      "4/4 - 0s - 17ms/step - accuracy: 0.9429 - loss: 0.1641\n",
      "Epoch 92/100\n",
      "4/4 - 0s - 17ms/step - accuracy: 0.9429 - loss: 0.1754\n",
      "Epoch 93/100\n",
      "4/4 - 0s - 43ms/step - accuracy: 0.9524 - loss: 0.1534\n",
      "Epoch 94/100\n",
      "4/4 - 0s - 17ms/step - accuracy: 0.9333 - loss: 0.2045\n",
      "Epoch 95/100\n",
      "4/4 - 0s - 19ms/step - accuracy: 0.9238 - loss: 0.1685\n",
      "Epoch 96/100\n",
      "4/4 - 0s - 14ms/step - accuracy: 0.9429 - loss: 0.1678\n",
      "Epoch 97/100\n",
      "4/4 - 0s - 15ms/step - accuracy: 0.9619 - loss: 0.1537\n",
      "Epoch 98/100\n",
      "4/4 - 0s - 21ms/step - accuracy: 0.9429 - loss: 0.1977\n",
      "Epoch 99/100\n",
      "4/4 - 0s - 17ms/step - accuracy: 0.9619 - loss: 0.1452\n",
      "Epoch 100/100\n",
      "4/4 - 0s - 13ms/step - accuracy: 0.9429 - loss: 0.2072\n"
     ]
    },
    {
     "data": {
      "text/plain": [
       "<keras.src.callbacks.history.History at 0x20876eb4650>"
      ]
     },
     "execution_count": 69,
     "metadata": {},
     "output_type": "execute_result"
    }
   ],
   "source": [
    "model.fit(X_train, y_train, epochs=100, verbose=2)"
   ]
  },
  {
   "cell_type": "code",
   "execution_count": 71,
   "id": "83b60a15-4ba6-4856-afde-55ac5d4a6ef1",
   "metadata": {},
   "outputs": [
    {
     "name": "stdout",
     "output_type": "stream",
     "text": [
      "\u001b[1m2/2\u001b[0m \u001b[32m━━━━━━━━━━━━━━━━━━━━\u001b[0m\u001b[37m\u001b[0m \u001b[1m0s\u001b[0m 113ms/step\n",
      "[[1.4716672e-04 9.5932871e-01 4.0524151e-02]\n",
      " [1.2284108e-13 4.3347359e-04 9.9956650e-01]\n",
      " [8.1721919e-06 9.4302309e-01 5.6968763e-02]\n",
      " [5.2185433e-15 4.9374499e-05 9.9995065e-01]\n",
      " [6.8209347e-06 9.2691004e-01 7.3083170e-02]]\n"
     ]
    }
   ],
   "source": [
    "prediction = model.predict(X_test)\n",
    "print(prediction[:5])"
   ]
  },
  {
   "cell_type": "code",
   "execution_count": 73,
   "id": "c208be57-83fe-44d3-a224-8a9407277527",
   "metadata": {},
   "outputs": [
    {
     "name": "stdout",
     "output_type": "stream",
     "text": [
      "[1 2 1 2 1]\n"
     ]
    }
   ],
   "source": [
    "prediction = np.argmax(prediction, axis=-1)\n",
    "print(prediction[:5])"
   ]
  },
  {
   "cell_type": "code",
   "execution_count": 75,
   "id": "15a4ad7d-3d46-4085-a815-a1ae34dcc2ba",
   "metadata": {},
   "outputs": [
    {
     "name": "stdout",
     "output_type": "stream",
     "text": [
      "4      0\n",
      "58     1\n",
      "20     0\n",
      "114    2\n",
      "31     0\n",
      "Name: Species, dtype: int32\n"
     ]
    }
   ],
   "source": [
    "print(y_test[:5])"
   ]
  },
  {
   "cell_type": "code",
   "execution_count": 79,
   "id": "dbe01019-9fb5-4a39-bb35-3c9aacd6eae5",
   "metadata": {},
   "outputs": [
    {
     "name": "stdout",
     "output_type": "stream",
     "text": [
      "0.37777777777777777\n"
     ]
    }
   ],
   "source": [
    "from sklearn.metrics import accuracy_score, confusion_matrix\n",
    "print(accuracy_score(y_test, prediction))"
   ]
  },
  {
   "cell_type": "code",
   "execution_count": 81,
   "id": "7ce21c41-49cd-4218-8284-2e5cf3f9f7d8",
   "metadata": {},
   "outputs": [
    {
     "name": "stdout",
     "output_type": "stream",
     "text": [
      "[[ 0 16  0]\n",
      " [ 0  0 12]\n",
      " [ 0  0 17]]\n"
     ]
    }
   ],
   "source": [
    "cm = confusion_matrix(y_test, prediction)\n",
    "print(cm)"
   ]
  },
  {
   "cell_type": "code",
   "execution_count": 85,
   "id": "755bc0eb-2e46-4e9d-90ed-92b1cd3e7b19",
   "metadata": {},
   "outputs": [
    {
     "data": {
      "text/plain": [
       "Text(50.72222222222221, 0.5, 'actual')"
      ]
     },
     "execution_count": 85,
     "metadata": {},
     "output_type": "execute_result"
    },
    {
     "data": {
      "image/png": "[encoded data removed]",
      "text/plain": [
       "<Figure size 640x480 with 2 Axes>"
      ]
     },
     "metadata": {},
     "output_type": "display_data"
    }
   ],
   "source": [
    "ax = sns.heatmap(cm, annot=True, fmt='d', cmap='Reds', xticklabels=species_name, yticklabels=species_name)\n",
    "ax.set_title('confusion matrix for irsis dataset prediction')\n",
    "ax.set_xlabel('prediction', fontsize=14)\n",
    "ax.set_ylabel('actual', fontsize=14)"
   ]
  }
 ],
 "metadata": {
  "kernelspec": {
   "display_name": "Python 3 (ipykernel)",
   "language": "python",
   "name": "python3"
  },
  "language_info": {
   "codemirror_mode": {
    "name": "ipython",
    "version": 3
   },
   "file_extension": ".py",
   "mimetype": "text/x-python",
   "name": "python",
   "nbconvert_exporter": "python",
   "pygments_lexer": "ipython3",
   "version": "3.11.7"
  }
 },
 "nbformat": 4,
 "nbformat_minor": 5
}
